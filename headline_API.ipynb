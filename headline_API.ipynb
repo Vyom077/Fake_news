{
 "cells": [
  {
   "cell_type": "code",
   "execution_count": null,
   "id": "2a5f8d5a",
   "metadata": {},
   "outputs": [],
   "source": [
    "import nltk\n",
    "from nltk.tokenize import word_tokenize\n",
    "from nltk.corpus import stopwords\n",
    "import requests\n",
    "\n",
    "# Download NLTK resources\n",
    "nltk.download('stopwords')\n",
    "nltk.download('punkt')\n",
    "\n",
    "def extract_keywords(headline):\n",
    "    tokens = word_tokenize(headline)\n",
    "    stop_words = set(stopwords.words('english'))\n",
    "    filtered_tokens = [word for word in tokens if word.lower() not in stop_words]\n",
    "    return filtered_tokens\n",
    "\n",
    "def compare_keywords_with_news_api(category):\n",
    "    api_url = f\"https://newsapi.org/v2/everything?q={category}&apiKey=6e0938291e1644ae8c1dffe5804f9b79\"\n",
    "    \n",
    "    news = requests.get(api_url).json()\n",
    "    articles = news.get(\"articles\", [])\n",
    "    \n",
    "    common_keywords_found = False\n",
    "    \n",
    "    for i, article in enumerate(articles):\n",
    "        headline = article.get('title', 'N/A')\n",
    "        source = article.get('source', {}).get('name', 'N/A')\n",
    "        description = article.get('description', 'N/A')\n",
    "        url = article.get('url', 'N/A')\n",
    "        published_at = article.get('publishedAt', 'N/A')\n",
    "        \n",
    "        headline_keywords = extract_keywords(headline)\n",
    "        intersection = set(keywords).intersection(headline_keywords)\n",
    "        \n",
    "        # Adjust the logic based on your requirements for determining if the news is fake or not\n",
    "        if len(intersection) > 0:\n",
    "            common_keywords_found = True\n",
    "            print(f\"\\nCommon keywords found in article:\")\n",
    "            print(\"Title:\", headline)\n",
    "            print(\"Source:\", source)\n",
    "            print(\"Description:\", description)\n",
    "            print(\"URL:\", url)\n",
    "            print(\"Published at:\", published_at)\n",
    "            break\n",
    "    \n",
    "    if not common_keywords_found:\n",
    "        print(\"\\nNo common keywords found in any article.\")\n",
    "\n",
    "# Example usage:\n",
    "category = input(\"Enter the category for news: \")\n",
    "headline = input(\"Enter a headline related to the category: \")\n",
    "keywords = extract_keywords(headline)\n",
    "compare_keywords_with_news_api(category)\n"
   ]
  }
 ],
 "metadata": {
  "kernelspec": {
   "display_name": "Python 3 (ipykernel)",
   "language": "python",
   "name": "python3"
  },
  "language_info": {
   "codemirror_mode": {
    "name": "ipython",
    "version": 3
   },
   "file_extension": ".py",
   "mimetype": "text/x-python",
   "name": "python",
   "nbconvert_exporter": "python",
   "pygments_lexer": "ipython3",
   "version": "3.9.13"
  }
 },
 "nbformat": 4,
 "nbformat_minor": 5
}
