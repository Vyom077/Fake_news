{
 "cells": [
  {
   "cell_type": "code",
   "execution_count": null,
   "id": "ed3f3740",
   "metadata": {},
   "outputs": [],
   "source": [
    "#To fetch news headlines  of user's category."
   ]
  },
  {
   "cell_type": "code",
   "execution_count": null,
   "id": "f95e23ee",
   "metadata": {},
   "outputs": [],
   "source": [
    "import requests\n",
    "\n",
    "def fetch_news_by_category(category):\n",
    "    api_url = f\"https://newsapi.org/v2/everything?q={category}&apiKey=9cec529d4eb64424b313506596d4ac0d\"\n",
    "    \n",
    "    response = requests.get(api_url)\n",
    "    news = response.json()\n",
    "    articles = news.get(\"articles\", [])\n",
    "    \n",
    "    if articles:\n",
    "        for i, article in enumerate(articles, start=1):\n",
    "            headline = article.get('title', 'N/A')\n",
    "            source = article.get('source', {}).get('name', 'N/A')\n",
    "            description = article.get('description', 'N/A')\n",
    "            url = article.get('url', 'N/A')\n",
    "            published_at = article.get('publishedAt', 'N/A')\n",
    "            \n",
    "            print(f\"\\nArticle {i}:\")\n",
    "            print(\"Title:\", headline)\n",
    "\n",
    "    else:\n",
    "        print(f\"No news articles found for the specified category. API response: {response.text}\")\n",
    "\n",
    "# Example usage:\n",
    "category = input(\"Enter the category for news: \")\n",
    "fetch_news_by_category(category)"
   ]
  },
  {
   "cell_type": "code",
   "execution_count": null,
   "id": "2844462e",
   "metadata": {},
   "outputs": [],
   "source": [
    "# now we sill compare news with our model"
   ]
  },
  {
   "cell_type": "code",
   "execution_count": 6,
   "id": "df3a4bf1",
   "metadata": {},
   "outputs": [
    {
     "name": "stderr",
     "output_type": "stream",
     "text": [
      "C:\\Users\\VYOM\\anaconda3\\lib\\site-packages\\sklearn\\base.py:329: UserWarning: Trying to unpickle estimator LogisticRegression from version 1.2.2 when using version 1.0.2. This might lead to breaking code or invalid results. Use at your own risk. For more info please refer to:\n",
      "https://scikit-learn.org/stable/modules/model_persistence.html#security-maintainability-limitations\n",
      "  warnings.warn(\n",
      "C:\\Users\\VYOM\\anaconda3\\lib\\site-packages\\sklearn\\base.py:329: UserWarning: Trying to unpickle estimator Pipeline from version 1.2.2 when using version 1.0.2. This might lead to breaking code or invalid results. Use at your own risk. For more info please refer to:\n",
      "https://scikit-learn.org/stable/modules/model_persistence.html#security-maintainability-limitations\n",
      "  warnings.warn(\n"
     ]
    }
   ],
   "source": [
    "from prat_similar import*\n",
    "\n",
    "import pickle\n",
    "model = pickle.load(open(\"C:\\\\Users\\\\VYOM\\\\Desktop\\\\SE_FAKE_NEWS\\\\model.pkl\", 'rb'))\n",
    "preprocess_pipe = pickle.load(open(\"C:\\\\Users\\\\VYOM\\\\Desktop\\\\SE_FAKE_NEWS\\\\preprocess_pipe.pkl\", 'rb'))"
   ]
  },
  {
   "cell_type": "code",
   "execution_count": 7,
   "id": "9cd7f5a1",
   "metadata": {},
   "outputs": [
    {
     "name": "stdout",
     "output_type": "stream",
     "text": [
      "Sentence 1:Strong US-Italy international links crime still bust shows mafia\n",
      "Sentence 2:International mafia bust shows US-Italy crime links still strong\n",
      "News is not Fake\n"
     ]
    },
    {
     "name": "stderr",
     "output_type": "stream",
     "text": [
      "C:\\Users\\VYOM\\anaconda3\\lib\\site-packages\\sklearn\\base.py:443: UserWarning: X has feature names, but LogisticRegression was fitted without feature names\n",
      "  warnings.warn(\n"
     ]
    }
   ],
   "source": [
    "import pandas as pd\n",
    "def sentence_similarity(s1=None, s2=None):\n",
    "    if s1 is None:\n",
    "        s1 = input('Sentence 1:')\n",
    "    if s2 is None:\n",
    "        s2 = input('Sentence 2:')\n",
    "    \n",
    "    test_df = pd.DataFrame([[s1, s2]])\n",
    "    res = 'News is not Fake' if (model.predict(preprocess_pipe.fit_transform(test_df))[0] == 1) else 'News is Fake'\n",
    "    print(res)\n",
    "    \n",
    "sentence_similarity()    "
   ]
  }
 ],
 "metadata": {
  "kernelspec": {
   "display_name": "Python 3 (ipykernel)",
   "language": "python",
   "name": "python3"
  },
  "language_info": {
   "codemirror_mode": {
    "name": "ipython",
    "version": 3
   },
   "file_extension": ".py",
   "mimetype": "text/x-python",
   "name": "python",
   "nbconvert_exporter": "python",
   "pygments_lexer": "ipython3",
   "version": "3.9.13"
  }
 },
 "nbformat": 4,
 "nbformat_minor": 5
}
